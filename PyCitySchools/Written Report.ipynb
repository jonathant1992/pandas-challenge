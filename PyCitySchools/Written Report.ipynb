{
 "cells": [
  {
   "cell_type": "code",
   "execution_count": null,
   "id": "462efb47-ca2e-4d77-9ac8-68dad6d3a5ce",
   "metadata": {},
   "outputs": [],
   "source": [
    "Summarizes the analysis\n",
    "The analysis examined school performance metrics, such as average math and reading scores and passing percentages, across three main dimensions: per-student spending, school size, and school type. By segmenting the data, we gained insights into how each factor might impact student achievement. The findings indicate that school size and school type have a stronger correlation with student performance than per-student spending, with smaller schools and Charter schools generally achieving better outcomes.\n",
    "\n",
    "Conclusions\n",
    "Smaller schools have higher average scores and passing rates than larger schools. This suggests that smaller school sizes may provide a more supportive and effective learning environment.\n",
    "Charter schools outperform District schools in all measured metrics, showing higher average scores and passing rates. This may indicate that the flexibility and tailored approaches often found in Charter schools contribute positively to student success.\n",
    "\n"
   ]
  },
  {
   "cell_type": "code",
   "execution_count": null,
   "id": "7e40bfcd-a468-4d9e-bd20-8b2d407e666f",
   "metadata": {},
   "outputs": [],
   "source": []
  }
 ],
 "metadata": {
  "kernelspec": {
   "display_name": "Python 3 (ipykernel)",
   "language": "python",
   "name": "python3"
  },
  "language_info": {
   "codemirror_mode": {
    "name": "ipython",
    "version": 3
   },
   "file_extension": ".py",
   "mimetype": "text/x-python",
   "name": "python",
   "nbconvert_exporter": "python",
   "pygments_lexer": "ipython3",
   "version": "3.12.4"
  }
 },
 "nbformat": 4,
 "nbformat_minor": 5
}
